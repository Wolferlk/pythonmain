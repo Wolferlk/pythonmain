{
  "nbformat": 4,
  "nbformat_minor": 0,
  "metadata": {
    "colab": {
      "provenance": [],
      "authorship_tag": "ABX9TyPTko8rNhqQ2qvWsHQH0xu1",
      "include_colab_link": true
    },
    "kernelspec": {
      "name": "python3",
      "display_name": "Python 3"
    },
    "language_info": {
      "name": "python"
    }
  },
  "cells": [
    {
      "cell_type": "markdown",
      "metadata": {
        "id": "view-in-github",
        "colab_type": "text"
      },
      "source": [
        "<a href=\"https://colab.research.google.com/github/Wolferlk/pythonmain/blob/main/lectrure1_part_b.ipynb\" target=\"_parent\"><img src=\"https://colab.research.google.com/assets/colab-badge.svg\" alt=\"Open In Colab\"/></a>"
      ]
    },
    {
      "cell_type": "code",
      "execution_count": null,
      "metadata": {
        "id": "RnHSoWVzs5bI"
      },
      "outputs": [],
      "source": []
    },
    {
      "cell_type": "code",
      "source": [
        "name = \"Sasindu Diluranga\"\n",
        "school = \"Sliit\"\n",
        "\n",
        "print(\"Name:\",name)\n",
        "print(\"School:\",school)\n"
      ],
      "metadata": {
        "colab": {
          "base_uri": "https://localhost:8080/"
        },
        "id": "xolvhXaZs9fA",
        "outputId": "f864ef01-b51b-4ed1-d3cf-7f497b289c37"
      },
      "execution_count": null,
      "outputs": [
        {
          "output_type": "stream",
          "name": "stdout",
          "text": [
            "Name: Sasindu Diluranga\n",
            "School: Sliit\n"
          ]
        }
      ]
    }
  ]
}